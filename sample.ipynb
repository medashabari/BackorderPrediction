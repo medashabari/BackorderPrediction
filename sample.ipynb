{
 "cells": [
  {
   "cell_type": "code",
   "execution_count": 9,
   "metadata": {},
   "outputs": [],
   "source": [
    "import os"
   ]
  },
  {
   "cell_type": "code",
   "execution_count": 1,
   "metadata": {},
   "outputs": [],
   "source": [
    "import boto3"
   ]
  },
  {
   "cell_type": "code",
   "execution_count": 4,
   "metadata": {},
   "outputs": [],
   "source": [
    "client = boto3.client('s3')"
   ]
  },
  {
   "cell_type": "code",
   "execution_count": 5,
   "metadata": {},
   "outputs": [],
   "source": [
    "response = client.list_buckets()"
   ]
  },
  {
   "cell_type": "code",
   "execution_count": 6,
   "metadata": {},
   "outputs": [
    {
     "data": {
      "text/plain": [
       "{'ResponseMetadata': {'RequestId': 'X04KESB0ZHNAS74H',\n",
       "  'HostId': 'QWRNoH7qUup3H2Ma8T7nTG/+aRqKl3V9Ix/kLkXnBV+sKugXOGMG1k2iEGmxhTuAdXr0gUSqrJ0=',\n",
       "  'HTTPStatusCode': 200,\n",
       "  'HTTPHeaders': {'x-amz-id-2': 'QWRNoH7qUup3H2Ma8T7nTG/+aRqKl3V9Ix/kLkXnBV+sKugXOGMG1k2iEGmxhTuAdXr0gUSqrJ0=',\n",
       "   'x-amz-request-id': 'X04KESB0ZHNAS74H',\n",
       "   'date': 'Tue, 17 Jan 2023 03:02:04 GMT',\n",
       "   'content-type': 'application/xml',\n",
       "   'transfer-encoding': 'chunked',\n",
       "   'server': 'AmazonS3'},\n",
       "  'RetryAttempts': 0},\n",
       " 'Buckets': [{'Name': 'backorderdata',\n",
       "   'CreationDate': datetime.datetime(2023, 1, 16, 7, 5, 50, tzinfo=tzutc())}],\n",
       " 'Owner': {'DisplayName': 'shabarimeda',\n",
       "  'ID': 'e6fdbabd977e33cd7fde5347d1e448f980ecdb3c51203a0a2b59a48b02fe7562'}}"
      ]
     },
     "execution_count": 6,
     "metadata": {},
     "output_type": "execute_result"
    }
   ],
   "source": [
    "response\n"
   ]
  },
  {
   "cell_type": "code",
   "execution_count": 8,
   "metadata": {},
   "outputs": [],
   "source": [
    "def upload_files(file_name,bucket,object_name=None,args=None):\n",
    "    \"\"\"\n",
    "    file_name: name of the file you want to upload\n",
    "    bucket: bucket_name\n",
    "    object_name: name of file on s3\n",
    "    args: custom args\n",
    "    \"\"\"\n",
    "\n",
    "    if object_name is None:\n",
    "        object_name = file_name\n",
    "    \n",
    "    response=client.upload_file(file_name,bucket,object_name,ExtraArgs=args)\n",
    "    print(response)"
   ]
  },
  {
   "cell_type": "code",
   "execution_count": 15,
   "metadata": {},
   "outputs": [
    {
     "name": "stdout",
     "output_type": "stream",
     "text": [
      "None\n"
     ]
    }
   ],
   "source": [
    "upload_files(file_name='/config/workspace/sample_bo.parquet.gzip',bucket=os.getenv(\"BUCKET_NAME\"),object_name=\"sample_bo.parquet.gzip\")"
   ]
  },
  {
   "cell_type": "code",
   "execution_count": 16,
   "metadata": {},
   "outputs": [
    {
     "data": {
      "text/plain": [
       "{'ResponseMetadata': {'RequestId': '9GV90J9M8A5J1PFA',\n",
       "  'HostId': 'ueOZtCBbKmZj/eg7eOtMdqQ5ZaLnggWuEaieXN/mkW5FUMdz6Fev08lfkTRBVWMlxKrTvDAlN/c=',\n",
       "  'HTTPStatusCode': 200,\n",
       "  'HTTPHeaders': {'x-amz-id-2': 'ueOZtCBbKmZj/eg7eOtMdqQ5ZaLnggWuEaieXN/mkW5FUMdz6Fev08lfkTRBVWMlxKrTvDAlN/c=',\n",
       "   'x-amz-request-id': '9GV90J9M8A5J1PFA',\n",
       "   'date': 'Tue, 17 Jan 2023 03:25:20 GMT',\n",
       "   'content-type': 'application/xml',\n",
       "   'transfer-encoding': 'chunked',\n",
       "   'server': 'AmazonS3'},\n",
       "  'RetryAttempts': 0},\n",
       " 'Buckets': [{'Name': 'backorderdata',\n",
       "   'CreationDate': datetime.datetime(2023, 1, 16, 7, 5, 50, tzinfo=tzutc())}],\n",
       " 'Owner': {'DisplayName': 'shabarimeda',\n",
       "  'ID': 'e6fdbabd977e33cd7fde5347d1e448f980ecdb3c51203a0a2b59a48b02fe7562'}}"
      ]
     },
     "execution_count": 16,
     "metadata": {},
     "output_type": "execute_result"
    }
   ],
   "source": [
    "## Downloading the file\n",
    "client.list_buckets()"
   ]
  },
  {
   "cell_type": "code",
   "execution_count": 17,
   "metadata": {},
   "outputs": [],
   "source": [
    "s3 = boto3.resource('s3')"
   ]
  },
  {
   "cell_type": "code",
   "execution_count": 18,
   "metadata": {},
   "outputs": [],
   "source": [
    "bucket=s3.Bucket(os.getenv(\"BUCKET_NAME\"))"
   ]
  },
  {
   "cell_type": "code",
   "execution_count": 20,
   "metadata": {},
   "outputs": [],
   "source": [
    "files=list(bucket.objects.all())"
   ]
  },
  {
   "cell_type": "code",
   "execution_count": 21,
   "metadata": {},
   "outputs": [],
   "source": [
    "for file in files:\n",
    "    client.download_file(os.getenv(\"BUCKET_NAME\"),file.key,file.key)\n"
   ]
  },
  {
   "cell_type": "code",
   "execution_count": null,
   "metadata": {},
   "outputs": [],
   "source": []
  }
 ],
 "metadata": {
  "kernelspec": {
   "display_name": "Python 3.8.10 64-bit",
   "language": "python",
   "name": "python3"
  },
  "language_info": {
   "codemirror_mode": {
    "name": "ipython",
    "version": 3
   },
   "file_extension": ".py",
   "mimetype": "text/x-python",
   "name": "python",
   "nbconvert_exporter": "python",
   "pygments_lexer": "ipython3",
   "version": "3.8.10"
  },
  "orig_nbformat": 4,
  "vscode": {
   "interpreter": {
    "hash": "e7370f93d1d0cde622a1f8e1c04877d8463912d04d973331ad4851f04de6915a"
   }
  }
 },
 "nbformat": 4,
 "nbformat_minor": 2
}
