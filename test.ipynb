{
 "cells": [
  {
   "cell_type": "code",
   "execution_count": 1,
   "metadata": {},
   "outputs": [],
   "source": [
    "import pandas as pd"
   ]
  },
  {
   "cell_type": "code",
   "execution_count": 2,
   "metadata": {},
   "outputs": [],
   "source": [
    "df = pd.read_parquet('sample_bo.parquet.gzip')"
   ]
  },
  {
   "cell_type": "code",
   "execution_count": 11,
   "metadata": {},
   "outputs": [
    {
     "data": {
      "text/plain": [
       "array([[0.0, 8.0, 0.0, 0.0, 0.0, 0.0, 0.0, 0.0, 0.0, 0.0, 1.0, 'No', 0.0,\n",
       "        0.98, 0.98, 0.0, 'No', 'No', 'Yes', 'Yes', 'No', 'No']],\n",
       "      dtype=object)"
      ]
     },
     "execution_count": 11,
     "metadata": {},
     "output_type": "execute_result"
    }
   ],
   "source": [
    "df.iloc[:1,:].to_numpy()"
   ]
  },
  {
   "cell_type": "code",
   "execution_count": 12,
   "metadata": {},
   "outputs": [
    {
     "data": {
      "text/html": [
       "<div>\n",
       "<style scoped>\n",
       "    .dataframe tbody tr th:only-of-type {\n",
       "        vertical-align: middle;\n",
       "    }\n",
       "\n",
       "    .dataframe tbody tr th {\n",
       "        vertical-align: top;\n",
       "    }\n",
       "\n",
       "    .dataframe thead th {\n",
       "        text-align: right;\n",
       "    }\n",
       "</style>\n",
       "<table border=\"1\" class=\"dataframe\">\n",
       "  <thead>\n",
       "    <tr style=\"text-align: right;\">\n",
       "      <th></th>\n",
       "      <th>national_inv</th>\n",
       "      <th>lead_time</th>\n",
       "      <th>in_transit_qty</th>\n",
       "      <th>forecast_3_month</th>\n",
       "      <th>forecast_6_month</th>\n",
       "      <th>forecast_9_month</th>\n",
       "      <th>sales_1_month</th>\n",
       "      <th>sales_3_month</th>\n",
       "      <th>sales_6_month</th>\n",
       "      <th>sales_9_month</th>\n",
       "      <th>...</th>\n",
       "      <th>pieces_past_due</th>\n",
       "      <th>perf_6_month_avg</th>\n",
       "      <th>perf_12_month_avg</th>\n",
       "      <th>local_bo_qty</th>\n",
       "      <th>deck_risk</th>\n",
       "      <th>oe_constraint</th>\n",
       "      <th>ppap_risk</th>\n",
       "      <th>stop_auto_buy</th>\n",
       "      <th>rev_stop</th>\n",
       "      <th>went_on_backorder</th>\n",
       "    </tr>\n",
       "  </thead>\n",
       "  <tbody>\n",
       "    <tr>\n",
       "      <th>732013</th>\n",
       "      <td>0.0</td>\n",
       "      <td>8.0</td>\n",
       "      <td>0.0</td>\n",
       "      <td>0.0</td>\n",
       "      <td>0.0</td>\n",
       "      <td>0.0</td>\n",
       "      <td>0.0</td>\n",
       "      <td>0.0</td>\n",
       "      <td>0.0</td>\n",
       "      <td>0.0</td>\n",
       "      <td>...</td>\n",
       "      <td>0.0</td>\n",
       "      <td>0.98</td>\n",
       "      <td>0.98</td>\n",
       "      <td>0.0</td>\n",
       "      <td>No</td>\n",
       "      <td>No</td>\n",
       "      <td>Yes</td>\n",
       "      <td>Yes</td>\n",
       "      <td>No</td>\n",
       "      <td>No</td>\n",
       "    </tr>\n",
       "  </tbody>\n",
       "</table>\n",
       "<p>1 rows × 22 columns</p>\n",
       "</div>"
      ],
      "text/plain": [
       "        national_inv  lead_time  in_transit_qty  forecast_3_month  \\\n",
       "732013           0.0        8.0             0.0               0.0   \n",
       "\n",
       "        forecast_6_month  forecast_9_month  sales_1_month  sales_3_month  \\\n",
       "732013               0.0               0.0            0.0            0.0   \n",
       "\n",
       "        sales_6_month  sales_9_month  ...  pieces_past_due perf_6_month_avg  \\\n",
       "732013            0.0            0.0  ...              0.0             0.98   \n",
       "\n",
       "        perf_12_month_avg  local_bo_qty  deck_risk  oe_constraint ppap_risk  \\\n",
       "732013               0.98           0.0         No             No       Yes   \n",
       "\n",
       "       stop_auto_buy rev_stop went_on_backorder  \n",
       "732013           Yes       No                No  \n",
       "\n",
       "[1 rows x 22 columns]"
      ]
     },
     "execution_count": 12,
     "metadata": {},
     "output_type": "execute_result"
    }
   ],
   "source": [
    "df.iloc[:1,:]"
   ]
  },
  {
   "cell_type": "code",
   "execution_count": 15,
   "metadata": {},
   "outputs": [],
   "source": [
    "d = {}\n",
    "a=[0.0, 8.0, 0.0, 0.0, 0.0, 0.0, 0.0, 0.0, 0.0, 0.0, 1.0, 'No', 0.0,\n",
    "        0.98, 0.98, 0.0, 'No', 'No', 'Yes', 'Yes', 'No', 'No']\n",
    "col = list(df.columns)\n",
    "for key,value in zip(col[:-1],a[:-1]):\n",
    "    d[key]=value"
   ]
  },
  {
   "cell_type": "code",
   "execution_count": 16,
   "metadata": {},
   "outputs": [
    {
     "data": {
      "text/plain": [
       "{'national_inv': 0.0,\n",
       " 'lead_time': 8.0,\n",
       " 'in_transit_qty': 0.0,\n",
       " 'forecast_3_month': 0.0,\n",
       " 'forecast_6_month': 0.0,\n",
       " 'forecast_9_month': 0.0,\n",
       " 'sales_1_month': 0.0,\n",
       " 'sales_3_month': 0.0,\n",
       " 'sales_6_month': 0.0,\n",
       " 'sales_9_month': 0.0,\n",
       " 'min_bank': 1.0,\n",
       " 'potential_issue': 'No',\n",
       " 'pieces_past_due': 0.0,\n",
       " 'perf_6_month_avg': 0.98,\n",
       " 'perf_12_month_avg': 0.98,\n",
       " 'local_bo_qty': 0.0,\n",
       " 'deck_risk': 'No',\n",
       " 'oe_constraint': 'No',\n",
       " 'ppap_risk': 'Yes',\n",
       " 'stop_auto_buy': 'Yes',\n",
       " 'rev_stop': 'No'}"
      ]
     },
     "execution_count": 16,
     "metadata": {},
     "output_type": "execute_result"
    }
   ],
   "source": [
    "d"
   ]
  },
  {
   "cell_type": "code",
   "execution_count": null,
   "metadata": {},
   "outputs": [],
   "source": [
    "import os, sys\n",
    "from backorder.exception import BackOrderException \n",
    "from backorder.logger import logging \n",
    "from backorder.pipeline import training_pipeline\n",
    "from backorder.pipeline.batch_prediction import start_batch_prediction\n",
    "from backorder.pipeline.instance_prediction import instance_prediction\n",
    "import warnings\n",
    "warnings.filterwarnings('ignore')\n",
    "if __name__ == '__main__':\n",
    "     try:\n",
    "          #logging.info(\"Initiating Training PipeLine\")\n",
    "          #training_pipeline.start_training_pipeline()\n",
    "          #logging.info(\"Training Completed\")\n",
    "          #logging.info(\"Batch prediction\")\n",
    "          #print(start_batch_prediction('/config/workspace/test_bo_.parquet.gzip'))\n",
    "          #logging.info(\"Batch prediction completed\")\n",
    "          d = {'national_inv': 0.0,\n",
    "          'lead_time': 8.0,\n",
    "          'in_transit_qty': 0.0,\n",
    "          'forecast_3_month': 0.0,\n",
    "          'forecast_6_month': 0.0,\n",
    "          'forecast_9_month': 0.0,\n",
    "          'sales_1_month': 0.0,\n",
    "          'sales_3_month': 0.0,\n",
    "          'sales_6_month': 0.0,\n",
    "          'sales_9_month': 0.0,\n",
    "          'min_bank': 1.0,\n",
    "          'potential_issue': 'No',\n",
    "          'pieces_past_due': 0.0,\n",
    "          'perf_6_month_avg': 0.98,\n",
    "          'perf_12_month_avg': 0.98,\n",
    "          'local_bo_qty': 0.0,\n",
    "          'deck_risk': 'No',\n",
    "          'oe_constraint': 'No',\n",
    "          'ppap_risk': 'Yes',\n",
    "          'stop_auto_buy': 'Yes',\n",
    "          'rev_stop': 'No'}\n",
    "\n",
    "          pred = instance_prediction(d)\n",
    "          if pred == 'No':\n",
    "               logging.info(\"The product is not going to be backorderd\")\n",
    "          else:\n",
    "               logging.info(\"The product is going to be backorderd\")\n",
    "\n",
    "\n",
    "     except Exception as e:\n",
    "          raise BackOrderException(error=e, error_detail=sys)"
   ]
  }
 ],
 "metadata": {
  "kernelspec": {
   "display_name": "Python 3.8.10 64-bit",
   "language": "python",
   "name": "python3"
  },
  "language_info": {
   "codemirror_mode": {
    "name": "ipython",
    "version": 3
   },
   "file_extension": ".py",
   "mimetype": "text/x-python",
   "name": "python",
   "nbconvert_exporter": "python",
   "pygments_lexer": "ipython3",
   "version": "3.8.10"
  },
  "orig_nbformat": 4,
  "vscode": {
   "interpreter": {
    "hash": "e7370f93d1d0cde622a1f8e1c04877d8463912d04d973331ad4851f04de6915a"
   }
  }
 },
 "nbformat": 4,
 "nbformat_minor": 2
}
